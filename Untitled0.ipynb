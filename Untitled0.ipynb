{
  "nbformat": 4,
  "nbformat_minor": 0,
  "metadata": {
    "accelerator": "GPU",
    "colab": {
      "name": "Untitled0.ipynb",
      "provenance": [],
      "authorship_tag": "ABX9TyO1uqyNJB4oEs1xrUsOGQBc",
      "include_colab_link": true
    },
    "kernelspec": {
      "display_name": "Python 3",
      "name": "python3"
    }
  },
  "cells": [
    {
      "cell_type": "markdown",
      "metadata": {
        "id": "view-in-github",
        "colab_type": "text"
      },
      "source": [
        "<a href=\"https://colab.research.google.com/github/djf9706/123/blob/content/Untitled0.ipynb\" target=\"_parent\"><img src=\"https://colab.research.google.com/assets/colab-badge.svg\" alt=\"Open In Colab\"/></a>"
      ]
    },
    {
      "cell_type": "code",
      "metadata": {
        "colab": {
          "base_uri": "https://localhost:8080/"
        },
        "id": "qWwuoUt3mY1Z",
        "outputId": "fb1cdddb-4dc3-47d9-ce4e-d626f87ffe3e"
      },
      "source": [
        "# 1.挂载谷歌云盘\n",
        "# 点击链接授权，复制授权嘛，填入方框回车。\n",
        " \n",
        "from google.colab import drive\n",
        " \n",
        "drive.mount('/content/drive', force_remount=True)\n"
      ],
      "execution_count": 2,
      "outputs": [
        {
          "output_type": "stream",
          "text": [
            "Mounted at /content/drive\n"
          ],
          "name": "stdout"
        }
      ]
    },
    {
      "cell_type": "code",
      "metadata": {
        "id": "4d69iVY6XkSY"
      },
      "source": [
        "from google.colab import drive\n",
        "drive.mount('/content/drive')"
      ],
      "execution_count": null,
      "outputs": []
    },
    {
      "cell_type": "code",
      "metadata": {
        "colab": {
          "base_uri": "https://localhost:8080/"
        },
        "id": "EciNdCyympbf",
        "outputId": "3ff9e985-81ae-4b6c-a980-7c4b2f147107"
      },
      "source": [
        "# 2.创建DeepFaceLab目录，并且进入目录\n",
        "%cd /content/drive/My\\ Drive/\n",
        "!mkdir DeepFaceLab\n",
        "%cd /content/drive/My\\ Drive/DeepFaceLab/"
      ],
      "execution_count": null,
      "outputs": [
        {
          "output_type": "stream",
          "text": [
            "/content/drive/My Drive\n",
            "mkdir: cannot create directory ‘DeepFaceLab’: File exists\n",
            "/content/drive/My Drive/DeepFaceLab\n"
          ],
          "name": "stdout"
        }
      ]
    },
    {
      "cell_type": "code",
      "metadata": {
        "colab": {
          "base_uri": "https://localhost:8080/"
        },
        "id": "F-kt7fYHmufh",
        "outputId": "4fc37a43-ef03-46da-879d-c1861321aba0"
      },
      "source": [
        "# 3.下载workspace数据\n",
        "!git clone https://github.com/dream80/DFLWorkspace.git workspace"
      ],
      "execution_count": null,
      "outputs": [
        {
          "output_type": "stream",
          "text": [
            "shell-init: error retrieving current directory: getcwd: cannot access parent directories: Transport endpoint is not connected\n",
            "fatal: could not create work tree dir 'workspace': Transport endpoint is not connected\n"
          ],
          "name": "stdout"
        }
      ]
    },
    {
      "cell_type": "code",
      "metadata": {
        "colab": {
          "base_uri": "https://localhost:8080/"
        },
        "id": "W-38S2eym8K1",
        "outputId": "b94df1f5-0291-46d2-f4ca-d663415541ec"
      },
      "source": [
        "# 1.获取DFL源代码\n",
        "!git clone https://github.com/iperov/DeepFaceLab.git"
      ],
      "execution_count": null,
      "outputs": [
        {
          "output_type": "stream",
          "text": [
            "shell-init: error retrieving current directory: getcwd: cannot access parent directories: Transport endpoint is not connected\n",
            "fatal: could not create work tree dir 'DeepFaceLab': Transport endpoint is not connected\n"
          ],
          "name": "stdout"
        }
      ]
    },
    {
      "cell_type": "code",
      "metadata": {
        "id": "l86PvBXKW1Vg"
      },
      "source": [
        ""
      ],
      "execution_count": null,
      "outputs": []
    },
    {
      "cell_type": "code",
      "metadata": {
        "colab": {
          "base_uri": "https://localhost:8080/"
        },
        "id": "76pNvZOln2gk",
        "outputId": "f87e495c-66ad-4db8-ab0b-1faff993d98c"
      },
      "source": [
        "# 2.进入DeepFaceLab目录\n",
        "%cd /content/drive/My Drive/DeepFaceLab/DeepFaceLab"
      ],
      "execution_count": 1,
      "outputs": [
        {
          "output_type": "stream",
          "text": [
            "[Errno 2] No such file or directory: '/content/drive/My Drive/DeepFaceLab/DeepFaceLab'\n",
            "/content\n"
          ],
          "name": "stdout"
        }
      ]
    },
    {
      "cell_type": "code",
      "metadata": {
        "id": "N3xAHSkLn_wn",
        "colab": {
          "base_uri": "https://localhost:8080/"
        },
        "outputId": "58a889d7-227a-45bd-cc2f-6423522849cc"
      },
      "source": [
        "# 3.安装Python依赖\n",
        "!pip install -r requirements-colab.txt\n",
        "!pip install --upgrade scikit-image"
      ],
      "execution_count": null,
      "outputs": [
        {
          "output_type": "stream",
          "text": [
            "shell-init: error retrieving current directory: getcwd: cannot access parent directories: Transport endpoint is not connected\n",
            "shell-init: error retrieving current directory: getcwd: cannot access parent directories: Transport endpoint is not connected\n",
            "The folder you are executing pip from can no longer be found.\n",
            "shell-init: error retrieving current directory: getcwd: cannot access parent directories: Transport endpoint is not connected\n",
            "shell-init: error retrieving current directory: getcwd: cannot access parent directories: Transport endpoint is not connected\n",
            "The folder you are executing pip from can no longer be found.\n"
          ],
          "name": "stdout"
        }
      ]
    },
    {
      "cell_type": "code",
      "metadata": {
        "colab": {
          "base_uri": "https://localhost:8080/",
          "height": 899
        },
        "id": "qxFxeJRRoV3y",
        "outputId": "c0e73b0b-15de-4bed-90c8-fecf0ac81636"
      },
      "source": [
        "# 1.确保路径正确，进入DeepFaceLab\n",
        "%cd /content/drive/My Drive/DeepFaceLab/DeepFaceLab"
      ],
      "execution_count": null,
      "outputs": [
        {
          "output_type": "stream",
          "text": [
            "ERROR:root:Internal Python error in the inspect module.\n",
            "Below is the traceback from this internal error.\n",
            "\n"
          ],
          "name": "stderr"
        },
        {
          "output_type": "stream",
          "text": [
            "Traceback (most recent call last):\n",
            "  File \"/usr/local/lib/python3.6/dist-packages/IPython/core/interactiveshell.py\", line 2882, in run_code\n",
            "    exec(code_obj, self.user_global_ns, self.user_ns)\n",
            "  File \"<ipython-input-31-fa82171e9a13>\", line 2, in <module>\n",
            "    get_ipython().magic('cd /content/drive/My Drive/DeepFaceLab/DeepFaceLab')\n",
            "  File \"/usr/local/lib/python3.6/dist-packages/IPython/core/interactiveshell.py\", line 2160, in magic\n",
            "    return self.run_line_magic(magic_name, magic_arg_s)\n",
            "  File \"/usr/local/lib/python3.6/dist-packages/IPython/core/interactiveshell.py\", line 2081, in run_line_magic\n",
            "    result = fn(*args,**kwargs)\n",
            "  File \"<decorator-gen-91>\", line 2, in cd\n",
            "  File \"/usr/local/lib/python3.6/dist-packages/IPython/core/magic.py\", line 188, in <lambda>\n",
            "    call = lambda f, *a, **k: f(*a, **k)\n",
            "  File \"/usr/local/lib/python3.6/dist-packages/IPython/core/magics/osm.py\", line 288, in cd\n",
            "    oldcwd = py3compat.getcwd()\n",
            "OSError: [Errno 107] Transport endpoint is not connected\n",
            "\n",
            "During handling of the above exception, another exception occurred:\n",
            "\n",
            "Traceback (most recent call last):\n",
            "  File \"/usr/local/lib/python3.6/dist-packages/IPython/core/interactiveshell.py\", line 1823, in showtraceback\n",
            "    stb = value._render_traceback_()\n",
            "AttributeError: 'OSError' object has no attribute '_render_traceback_'\n",
            "\n",
            "During handling of the above exception, another exception occurred:\n",
            "\n",
            "Traceback (most recent call last):\n",
            "  File \"/usr/local/lib/python3.6/dist-packages/IPython/core/ultratb.py\", line 1132, in get_records\n",
            "    return _fixed_getinnerframes(etb, number_of_lines_of_context, tb_offset)\n",
            "  File \"/usr/local/lib/python3.6/dist-packages/IPython/core/ultratb.py\", line 313, in wrapped\n",
            "    return f(*args, **kwargs)\n",
            "  File \"/usr/local/lib/python3.6/dist-packages/IPython/core/ultratb.py\", line 358, in _fixed_getinnerframes\n",
            "    records = fix_frame_records_filenames(inspect.getinnerframes(etb, context))\n",
            "  File \"/usr/lib/python3.6/inspect.py\", line 1490, in getinnerframes\n",
            "    frameinfo = (tb.tb_frame,) + getframeinfo(tb, context)\n",
            "  File \"/usr/lib/python3.6/inspect.py\", line 1448, in getframeinfo\n",
            "    filename = getsourcefile(frame) or getfile(frame)\n",
            "  File \"/usr/lib/python3.6/inspect.py\", line 696, in getsourcefile\n",
            "    if getattr(getmodule(object, filename), '__loader__', None) is not None:\n",
            "  File \"/usr/lib/python3.6/inspect.py\", line 725, in getmodule\n",
            "    file = getabsfile(object, _filename)\n",
            "  File \"/usr/lib/python3.6/inspect.py\", line 709, in getabsfile\n",
            "    return os.path.normcase(os.path.abspath(_filename))\n",
            "  File \"/usr/lib/python3.6/posixpath.py\", line 383, in abspath\n",
            "    cwd = os.getcwd()\n",
            "OSError: [Errno 107] Transport endpoint is not connected\n"
          ],
          "name": "stdout"
        },
        {
          "output_type": "error",
          "ename": "OSError",
          "evalue": "ignored",
          "traceback": [
            "\u001b[0;31m---------------------------------------------------------------------------\u001b[0m"
          ]
        }
      ]
    },
    {
      "cell_type": "code",
      "metadata": {
        "colab": {
          "base_uri": "https://localhost:8080/"
        },
        "id": "rIXtcFw2oets",
        "outputId": "d02d96cd-13de-4f5a-8667-1e5350817c8e"
      },
      "source": [
        "# 2.SRC视频转图片\n",
        " \n",
        "!python main.py videoed extract-video --input-file ../workspace/data_src.mp4 --output-dir ../workspace/data_src/"
      ],
      "execution_count": null,
      "outputs": [
        {
          "output_type": "stream",
          "text": [
            "[0] Enter FPS ( ?:help ) : 10\n",
            "10\n",
            "[png] Output image format ( png/jpg ?:help ) : \n",
            "png\n",
            "ffmpeg version 3.4.8-0ubuntu0.2 Copyright (c) 2000-2020 the FFmpeg developers\n",
            "  built with gcc 7 (Ubuntu 7.5.0-3ubuntu1~18.04)\n",
            "  configuration: --prefix=/usr --extra-version=0ubuntu0.2 --toolchain=hardened --libdir=/usr/lib/x86_64-linux-gnu --incdir=/usr/include/x86_64-linux-gnu --enable-gpl --disable-stripping --enable-avresample --enable-avisynth --enable-gnutls --enable-ladspa --enable-libass --enable-libbluray --enable-libbs2b --enable-libcaca --enable-libcdio --enable-libflite --enable-libfontconfig --enable-libfreetype --enable-libfribidi --enable-libgme --enable-libgsm --enable-libmp3lame --enable-libmysofa --enable-libopenjpeg --enable-libopenmpt --enable-libopus --enable-libpulse --enable-librubberband --enable-librsvg --enable-libshine --enable-libsnappy --enable-libsoxr --enable-libspeex --enable-libssh --enable-libtheora --enable-libtwolame --enable-libvorbis --enable-libvpx --enable-libwavpack --enable-libwebp --enable-libx265 --enable-libxml2 --enable-libxvid --enable-libzmq --enable-libzvbi --enable-omx --enable-openal --enable-opengl --enable-sdl2 --enable-libdc1394 --enable-libdrm --enable-libiec61883 --enable-chromaprint --enable-frei0r --enable-libopencv --enable-libx264 --enable-shared\n",
            "  libavutil      55. 78.100 / 55. 78.100\n",
            "  libavcodec     57.107.100 / 57.107.100\n",
            "  libavformat    57. 83.100 / 57. 83.100\n",
            "  libavdevice    57. 10.100 / 57. 10.100\n",
            "  libavfilter     6.107.100 /  6.107.100\n",
            "  libavresample   3.  7.  0 /  3.  7.  0\n",
            "  libswscale      4.  8.100 /  4.  8.100\n",
            "  libswresample   2.  9.100 /  2.  9.100\n",
            "  libpostproc    54.  7.100 / 54.  7.100\n",
            "Input #0, mov,mp4,m4a,3gp,3g2,mj2, from '/content/drive/My Drive/DeepFaceLab/workspace/data_src.mp4':\n",
            "  Metadata:\n",
            "    major_brand     : qt  \n",
            "    minor_version   : 0\n",
            "    compatible_brands: qt  \n",
            "    creation_time   : 2020-11-22T13:58:32.000000Z\n",
            "    com.apple.quicktime.make: Apple\n",
            "    com.apple.quicktime.model: iPhone 7 Plus\n",
            "    com.apple.quicktime.software: 13.5.1\n",
            "    com.apple.quicktime.creationdate: 2020-11-22T21:58:32+0800\n",
            "  Duration: 00:00:10.21, start: 0.000000, bitrate: 7921 kb/s\n",
            "    Stream #0:0(und): Video: hevc (Main) (hvc1 / 0x31637668), yuv420p(tv, bt709), 1920x1080, 7796 kb/s, 29.97 fps, 29.97 tbr, 600 tbn, 600 tbc (default)\n",
            "    Metadata:\n",
            "      rotate          : 90\n",
            "      creation_time   : 2020-11-22T13:58:32.000000Z\n",
            "      handler_name    : Core Media Data Handler\n",
            "      encoder         : HEVC\n",
            "    Side data:\n",
            "      displaymatrix: rotation of -90.00 degrees\n",
            "    Stream #0:1(und): Audio: aac (LC) (mp4a / 0x6134706D), 44100 Hz, mono, fltp, 89 kb/s (default)\n",
            "    Metadata:\n",
            "      creation_time   : 2020-11-22T13:58:32.000000Z\n",
            "      handler_name    : Core Media Data Handler\n",
            "    Stream #0:2(und): Data: none (mebx / 0x7862656D), 23 kb/s (default)\n",
            "    Metadata:\n",
            "      creation_time   : 2020-11-22T13:58:32.000000Z\n",
            "      handler_name    : Core Media Data Handler\n",
            "    Stream #0:3(und): Data: none (mebx / 0x7862656D), 0 kb/s (default)\n",
            "    Metadata:\n",
            "      creation_time   : 2020-11-22T13:58:32.000000Z\n",
            "      handler_name    : Core Media Data Handler\n",
            "Stream mapping:\n",
            "  Stream #0:0 -> #0:0 (hevc (native) -> png (native))\n",
            "Press [q] to stop, [?] for help\n",
            "Output #0, image2, to '/content/drive/My Drive/DeepFaceLab/workspace/data_src/%5d.png':\n",
            "  Metadata:\n",
            "    major_brand     : qt  \n",
            "    minor_version   : 0\n",
            "    compatible_brands: qt  \n",
            "    com.apple.quicktime.creationdate: 2020-11-22T21:58:32+0800\n",
            "    com.apple.quicktime.make: Apple\n",
            "    com.apple.quicktime.model: iPhone 7 Plus\n",
            "    com.apple.quicktime.software: 13.5.1\n",
            "    encoder         : Lavf57.83.100\n",
            "    Stream #0:0(und): Video: png, rgb24, 1080x1920, q=2-31, 200 kb/s, 10 fps, 10 tbn, 10 tbc (default)\n",
            "    Metadata:\n",
            "      encoder         : Lavc57.107.100 png\n",
            "      creation_time   : 2020-11-22T13:58:32.000000Z\n",
            "      handler_name    : Core Media Data Handler\n",
            "    Side data:\n",
            "      displaymatrix: rotation of -0.00 degrees\n",
            "frame=  104 fps=4.4 q=-0.0 Lsize=N/A time=00:00:10.40 bitrate=N/A dup=0 drop=202 speed=0.436x    \n",
            "video:173377kB audio:0kB subtitle:0kB other streams:0kB global headers:0kB muxing overhead: unknown\n",
            "Done.\n"
          ],
          "name": "stdout"
        }
      ]
    },
    {
      "cell_type": "code",
      "metadata": {
        "colab": {
          "background_save": true,
          "base_uri": "https://localhost:8080/"
        },
        "id": "0g_clxCDpfZz",
        "outputId": "d279931a-b31a-485b-f875-fcb315e318af"
      },
      "source": [
        "#Src 提取脸部图片\n",
        "!python main.py extract --input-dir ../workspace/data_src --output-dir ../workspace/data_src/aligned --detector s3fd "
      ],
      "execution_count": null,
      "outputs": [
        {
          "output_type": "stream",
          "text": [
            "\n",
            " WARNING !!! \n",
            " /content/drive/MyDrive/DeepFaceLab/workspace/data_src/aligned contains files! \n",
            " They will be deleted. \n",
            " Press enter to continue.\n",
            "\n",
            "[wf] Face type ( f/wf/head ?:help ) : \n",
            "wf\n",
            "[0] Max number of faces from image ( ?:help ) : \n",
            "0\n",
            "[512] Image size ( 256-2048 ?:help ) : \n",
            "512\n",
            "[90] Jpeg quality ( 1-100 ?:help ) : \n",
            "90\n",
            "[n] Write debug images to aligned_debug? ( y/n ) : \n",
            "n\n",
            "Extracting faces...\n",
            "Running on CPU0\n",
            "100% 104/104 [16:28<00:00,  9.51s/it]\n",
            "-------------------------\n",
            "Images found:        104\n",
            "Faces detected:      104\n",
            "-------------------------\n",
            "Done.\n"
          ],
          "name": "stdout"
        }
      ]
    },
    {
      "cell_type": "code",
      "metadata": {
        "colab": {
          "base_uri": "https://localhost:8080/"
        },
        "id": "lmzlED6B1AMQ",
        "outputId": "2c244059-87f9-4e62-ff2b-28791b9bbf43"
      },
      "source": [
        "# 4.SRC排序，可以通过谷歌云盘查看结果，删除不良图片\n",
        " \n",
        "!python main.py sort --input-dir ../workspace/data_src/aligned --by hist"
      ],
      "execution_count": null,
      "outputs": [
        {
          "output_type": "stream",
          "text": [
            "Running sort tool.\r\n",
            "\n",
            "Sorting by histogram similarity...\n",
            "Running on 1 threads\n",
            "Sorting: 100% 104/104 [00:00<00:00, 189.10it/s]\n",
            "Renaming: 100% 104/104 [00:00<00:00, 363.33it/s]\n",
            "Done.\n"
          ],
          "name": "stdout"
        }
      ]
    },
    {
      "cell_type": "code",
      "metadata": {
        "id": "DlRvBdwLhSEt"
      },
      "source": [
        "# 5.DST视频转图片\n",
        " \n",
        "!python main.py videoed extract-video --input-file ../workspace/data_dst.mp4 --output-dir ../workspace/data_dst/"
      ],
      "execution_count": null,
      "outputs": []
    },
    {
      "cell_type": "code",
      "metadata": {
        "id": "dsc69W3L1OAI"
      },
      "source": [
        "# 6.DST提取脸部图片\n",
        " \n",
        "!python main.py extract --input-dir ../workspace/data_dst --output-dir ../workspace/data_dst/aligned --detector s3fd "
      ],
      "execution_count": null,
      "outputs": []
    },
    {
      "cell_type": "code",
      "metadata": {
        "id": "RN21_ELfhewj"
      },
      "source": [
        "# 7.DST排序，可以通过谷歌云盘查看结果，删除不良图片\n",
        " \n",
        "!python main.py sort --input-dir ../workspace/data_dst/aligned --by hist\n"
      ],
      "execution_count": null,
      "outputs": []
    },
    {
      "cell_type": "code",
      "metadata": {
        "id": "mg-_Xx3x3G_w"
      },
      "source": [
        "# 2.Running trainer  H128\n",
        " \n",
        "!python main.py train --training-data-src-dir ../workspace/data_src/aligned --training-data-dst-dir ../workspace/data_dst/aligned --model-dir ../workspace/model --model Quick96 --no-preview\n"
      ],
      "execution_count": null,
      "outputs": []
    },
    {
      "cell_type": "code",
      "metadata": {
        "colab": {
          "base_uri": "https://localhost:8080/",
          "height": 1000
        },
        "id": "VQfHlqhZMdn9",
        "outputId": "3bb7829e-8efd-406e-f715-7a150fabb5ce"
      },
      "source": [
        "#挂载谷歌云盘\n",
        "#点击链接授权，复制授权码，填入框框，然后回车。\n",
        " \n",
        "from google.colab import drive\n",
        "drive.mount('/content/drive', force_remount=True)\n",
        " \n",
        "# 进入DeepFaceLab_Colab目录\n",
        "%cd /content/drive/My Drive/DeepFaceLab/DeepFaceLab\n",
        " \n",
        "# 安装Python依赖\n",
        "!pip install -r requirements-colab.txt\n",
        "!pip install --upgrade scikit-image\n",
        " \n"
      ],
      "execution_count": null,
      "outputs": [
        {
          "output_type": "stream",
          "text": [
            "Mounted at /content/drive\n",
            "/content/drive/My Drive/DeepFaceLab/DeepFaceLab\n",
            "Requirement already satisfied: tqdm in /usr/local/lib/python3.6/dist-packages (from -r requirements-colab.txt (line 1)) (4.41.1)\n",
            "Collecting numpy==1.19.3\n",
            "\u001b[?25l  Downloading https://files.pythonhosted.org/packages/0e/f7/a7d7e0de99a7b43bd95aaddcf29e65b5a185ca389dd1329a53cc986edc38/numpy-1.19.3-cp36-cp36m-manylinux2010_x86_64.whl (14.9MB)\n",
            "\u001b[K     |████████████████████████████████| 14.9MB 315kB/s \n",
            "\u001b[?25hCollecting h5py==2.9.0\n",
            "\u001b[?25l  Downloading https://files.pythonhosted.org/packages/30/99/d7d4fbf2d02bb30fb76179911a250074b55b852d34e98dd452a9f394ac06/h5py-2.9.0-cp36-cp36m-manylinux1_x86_64.whl (2.8MB)\n",
            "\u001b[K     |████████████████████████████████| 2.8MB 45.3MB/s \n",
            "\u001b[?25hCollecting opencv-python==4.1.0.25\n",
            "\u001b[?25l  Downloading https://files.pythonhosted.org/packages/7b/d2/a2dbf83d4553ca6b3701d91d75e42fe50aea97acdc00652dca515749fb5d/opencv_python-4.1.0.25-cp36-cp36m-manylinux1_x86_64.whl (26.6MB)\n",
            "\u001b[K     |████████████████████████████████| 26.6MB 119kB/s \n",
            "\u001b[?25hCollecting ffmpeg-python==0.1.17\n",
            "  Downloading https://files.pythonhosted.org/packages/3d/10/330cbc8e63d072d40413f4d470444a6a1e8c8c6a80b2a4ac302d1252ca1b/ffmpeg_python-0.1.17-py3-none-any.whl\n",
            "Collecting scikit-image==0.14.2\n",
            "\u001b[?25l  Downloading https://files.pythonhosted.org/packages/24/06/d560630eb9e36d90d69fe57d9ff762d8f501664ce478b8a0ae132b3c3008/scikit_image-0.14.2-cp36-cp36m-manylinux1_x86_64.whl (25.3MB)\n",
            "\u001b[K     |████████████████████████████████| 25.3MB 106kB/s \n",
            "\u001b[?25hRequirement already satisfied: scipy==1.4.1 in /usr/local/lib/python3.6/dist-packages (from -r requirements-colab.txt (line 7)) (1.4.1)\n",
            "Collecting colorama\n",
            "  Downloading https://files.pythonhosted.org/packages/44/98/5b86278fbbf250d239ae0ecb724f8572af1c91f4a11edf4d36a206189440/colorama-0.4.4-py2.py3-none-any.whl\n",
            "Collecting tensorflow-gpu==2.3.1\n",
            "\u001b[?25l  Downloading https://files.pythonhosted.org/packages/18/99/ac32fd13d56e40d4c3e6150030132519997c0bb1f06f448d970e81b177e5/tensorflow_gpu-2.3.1-cp36-cp36m-manylinux2010_x86_64.whl (320.4MB)\n",
            "\u001b[K     |████████████████████████████████| 320.4MB 49kB/s \n",
            "\u001b[?25hRequirement already satisfied: six in /usr/local/lib/python3.6/dist-packages (from h5py==2.9.0->-r requirements-colab.txt (line 3)) (1.15.0)\n",
            "Requirement already satisfied: future in /usr/local/lib/python3.6/dist-packages (from ffmpeg-python==0.1.17->-r requirements-colab.txt (line 5)) (0.16.0)\n",
            "Requirement already satisfied: pillow>=4.3.0 in /usr/local/lib/python3.6/dist-packages (from scikit-image==0.14.2->-r requirements-colab.txt (line 6)) (7.0.0)\n",
            "Requirement already satisfied: dask[array]>=1.0.0 in /usr/local/lib/python3.6/dist-packages (from scikit-image==0.14.2->-r requirements-colab.txt (line 6)) (2.12.0)\n",
            "Requirement already satisfied: cloudpickle>=0.2.1 in /usr/local/lib/python3.6/dist-packages (from scikit-image==0.14.2->-r requirements-colab.txt (line 6)) (1.3.0)\n",
            "Requirement already satisfied: matplotlib>=2.0.0 in /usr/local/lib/python3.6/dist-packages (from scikit-image==0.14.2->-r requirements-colab.txt (line 6)) (3.2.2)\n",
            "Requirement already satisfied: networkx>=1.8 in /usr/local/lib/python3.6/dist-packages (from scikit-image==0.14.2->-r requirements-colab.txt (line 6)) (2.5)\n",
            "Requirement already satisfied: PyWavelets>=0.4.0 in /usr/local/lib/python3.6/dist-packages (from scikit-image==0.14.2->-r requirements-colab.txt (line 6)) (1.1.1)\n",
            "Requirement already satisfied: wrapt>=1.11.1 in /usr/local/lib/python3.6/dist-packages (from tensorflow-gpu==2.3.1->-r requirements-colab.txt (line 9)) (1.12.1)\n",
            "Requirement already satisfied: protobuf>=3.9.2 in /usr/local/lib/python3.6/dist-packages (from tensorflow-gpu==2.3.1->-r requirements-colab.txt (line 9)) (3.12.4)\n",
            "Requirement already satisfied: tensorflow-estimator<2.4.0,>=2.3.0 in /usr/local/lib/python3.6/dist-packages (from tensorflow-gpu==2.3.1->-r requirements-colab.txt (line 9)) (2.3.0)\n",
            "Requirement already satisfied: google-pasta>=0.1.8 in /usr/local/lib/python3.6/dist-packages (from tensorflow-gpu==2.3.1->-r requirements-colab.txt (line 9)) (0.2.0)\n",
            "Requirement already satisfied: termcolor>=1.1.0 in /usr/local/lib/python3.6/dist-packages (from tensorflow-gpu==2.3.1->-r requirements-colab.txt (line 9)) (1.1.0)\n",
            "Requirement already satisfied: grpcio>=1.8.6 in /usr/local/lib/python3.6/dist-packages (from tensorflow-gpu==2.3.1->-r requirements-colab.txt (line 9)) (1.33.2)\n",
            "Requirement already satisfied: astunparse==1.6.3 in /usr/local/lib/python3.6/dist-packages (from tensorflow-gpu==2.3.1->-r requirements-colab.txt (line 9)) (1.6.3)\n",
            "Requirement already satisfied: gast==0.3.3 in /usr/local/lib/python3.6/dist-packages (from tensorflow-gpu==2.3.1->-r requirements-colab.txt (line 9)) (0.3.3)\n",
            "Requirement already satisfied: keras-preprocessing<1.2,>=1.1.1 in /usr/local/lib/python3.6/dist-packages (from tensorflow-gpu==2.3.1->-r requirements-colab.txt (line 9)) (1.1.2)\n",
            "Requirement already satisfied: absl-py>=0.7.0 in /usr/local/lib/python3.6/dist-packages (from tensorflow-gpu==2.3.1->-r requirements-colab.txt (line 9)) (0.10.0)\n",
            "Requirement already satisfied: opt-einsum>=2.3.2 in /usr/local/lib/python3.6/dist-packages (from tensorflow-gpu==2.3.1->-r requirements-colab.txt (line 9)) (3.3.0)\n",
            "Requirement already satisfied: tensorboard<3,>=2.3.0 in /usr/local/lib/python3.6/dist-packages (from tensorflow-gpu==2.3.1->-r requirements-colab.txt (line 9)) (2.3.0)\n",
            "Requirement already satisfied: wheel>=0.26 in /usr/local/lib/python3.6/dist-packages (from tensorflow-gpu==2.3.1->-r requirements-colab.txt (line 9)) (0.35.1)\n",
            "Requirement already satisfied: toolz>=0.7.3; extra == \"array\" in /usr/local/lib/python3.6/dist-packages (from dask[array]>=1.0.0->scikit-image==0.14.2->-r requirements-colab.txt (line 6)) (0.11.1)\n",
            "Requirement already satisfied: python-dateutil>=2.1 in /usr/local/lib/python3.6/dist-packages (from matplotlib>=2.0.0->scikit-image==0.14.2->-r requirements-colab.txt (line 6)) (2.8.1)\n",
            "Requirement already satisfied: kiwisolver>=1.0.1 in /usr/local/lib/python3.6/dist-packages (from matplotlib>=2.0.0->scikit-image==0.14.2->-r requirements-colab.txt (line 6)) (1.3.1)\n",
            "Requirement already satisfied: cycler>=0.10 in /usr/local/lib/python3.6/dist-packages (from matplotlib>=2.0.0->scikit-image==0.14.2->-r requirements-colab.txt (line 6)) (0.10.0)\n",
            "Requirement already satisfied: pyparsing!=2.0.4,!=2.1.2,!=2.1.6,>=2.0.1 in /usr/local/lib/python3.6/dist-packages (from matplotlib>=2.0.0->scikit-image==0.14.2->-r requirements-colab.txt (line 6)) (2.4.7)\n",
            "Requirement already satisfied: decorator>=4.3.0 in /usr/local/lib/python3.6/dist-packages (from networkx>=1.8->scikit-image==0.14.2->-r requirements-colab.txt (line 6)) (4.4.2)\n",
            "Requirement already satisfied: setuptools in /usr/local/lib/python3.6/dist-packages (from protobuf>=3.9.2->tensorflow-gpu==2.3.1->-r requirements-colab.txt (line 9)) (50.3.2)\n",
            "Requirement already satisfied: requests<3,>=2.21.0 in /usr/local/lib/python3.6/dist-packages (from tensorboard<3,>=2.3.0->tensorflow-gpu==2.3.1->-r requirements-colab.txt (line 9)) (2.23.0)\n",
            "Requirement already satisfied: google-auth<2,>=1.6.3 in /usr/local/lib/python3.6/dist-packages (from tensorboard<3,>=2.3.0->tensorflow-gpu==2.3.1->-r requirements-colab.txt (line 9)) (1.17.2)\n",
            "Requirement already satisfied: markdown>=2.6.8 in /usr/local/lib/python3.6/dist-packages (from tensorboard<3,>=2.3.0->tensorflow-gpu==2.3.1->-r requirements-colab.txt (line 9)) (3.3.3)\n",
            "Requirement already satisfied: tensorboard-plugin-wit>=1.6.0 in /usr/local/lib/python3.6/dist-packages (from tensorboard<3,>=2.3.0->tensorflow-gpu==2.3.1->-r requirements-colab.txt (line 9)) (1.7.0)\n",
            "Requirement already satisfied: werkzeug>=0.11.15 in /usr/local/lib/python3.6/dist-packages (from tensorboard<3,>=2.3.0->tensorflow-gpu==2.3.1->-r requirements-colab.txt (line 9)) (1.0.1)\n",
            "Requirement already satisfied: google-auth-oauthlib<0.5,>=0.4.1 in /usr/local/lib/python3.6/dist-packages (from tensorboard<3,>=2.3.0->tensorflow-gpu==2.3.1->-r requirements-colab.txt (line 9)) (0.4.2)\n",
            "Requirement already satisfied: idna<3,>=2.5 in /usr/local/lib/python3.6/dist-packages (from requests<3,>=2.21.0->tensorboard<3,>=2.3.0->tensorflow-gpu==2.3.1->-r requirements-colab.txt (line 9)) (2.10)\n",
            "Requirement already satisfied: urllib3!=1.25.0,!=1.25.1,<1.26,>=1.21.1 in /usr/local/lib/python3.6/dist-packages (from requests<3,>=2.21.0->tensorboard<3,>=2.3.0->tensorflow-gpu==2.3.1->-r requirements-colab.txt (line 9)) (1.24.3)\n",
            "Requirement already satisfied: certifi>=2017.4.17 in /usr/local/lib/python3.6/dist-packages (from requests<3,>=2.21.0->tensorboard<3,>=2.3.0->tensorflow-gpu==2.3.1->-r requirements-colab.txt (line 9)) (2020.11.8)\n",
            "Requirement already satisfied: chardet<4,>=3.0.2 in /usr/local/lib/python3.6/dist-packages (from requests<3,>=2.21.0->tensorboard<3,>=2.3.0->tensorflow-gpu==2.3.1->-r requirements-colab.txt (line 9)) (3.0.4)\n",
            "Requirement already satisfied: pyasn1-modules>=0.2.1 in /usr/local/lib/python3.6/dist-packages (from google-auth<2,>=1.6.3->tensorboard<3,>=2.3.0->tensorflow-gpu==2.3.1->-r requirements-colab.txt (line 9)) (0.2.8)\n",
            "Requirement already satisfied: cachetools<5.0,>=2.0.0 in /usr/local/lib/python3.6/dist-packages (from google-auth<2,>=1.6.3->tensorboard<3,>=2.3.0->tensorflow-gpu==2.3.1->-r requirements-colab.txt (line 9)) (4.1.1)\n",
            "Requirement already satisfied: rsa<5,>=3.1.4; python_version >= \"3\" in /usr/local/lib/python3.6/dist-packages (from google-auth<2,>=1.6.3->tensorboard<3,>=2.3.0->tensorflow-gpu==2.3.1->-r requirements-colab.txt (line 9)) (4.6)\n",
            "Requirement already satisfied: importlib-metadata; python_version < \"3.8\" in /usr/local/lib/python3.6/dist-packages (from markdown>=2.6.8->tensorboard<3,>=2.3.0->tensorflow-gpu==2.3.1->-r requirements-colab.txt (line 9)) (2.0.0)\n",
            "Requirement already satisfied: requests-oauthlib>=0.7.0 in /usr/local/lib/python3.6/dist-packages (from google-auth-oauthlib<0.5,>=0.4.1->tensorboard<3,>=2.3.0->tensorflow-gpu==2.3.1->-r requirements-colab.txt (line 9)) (1.3.0)\n",
            "Requirement already satisfied: pyasn1<0.5.0,>=0.4.6 in /usr/local/lib/python3.6/dist-packages (from pyasn1-modules>=0.2.1->google-auth<2,>=1.6.3->tensorboard<3,>=2.3.0->tensorflow-gpu==2.3.1->-r requirements-colab.txt (line 9)) (0.4.8)\n",
            "Requirement already satisfied: zipp>=0.5 in /usr/local/lib/python3.6/dist-packages (from importlib-metadata; python_version < \"3.8\"->markdown>=2.6.8->tensorboard<3,>=2.3.0->tensorflow-gpu==2.3.1->-r requirements-colab.txt (line 9)) (3.4.0)\n",
            "Requirement already satisfied: oauthlib>=3.0.0 in /usr/local/lib/python3.6/dist-packages (from requests-oauthlib>=0.7.0->google-auth-oauthlib<0.5,>=0.4.1->tensorboard<3,>=2.3.0->tensorflow-gpu==2.3.1->-r requirements-colab.txt (line 9)) (3.1.0)\n",
            "\u001b[31mERROR: tensorflow 2.3.0 has requirement h5py<2.11.0,>=2.10.0, but you'll have h5py 2.9.0 which is incompatible.\u001b[0m\n",
            "\u001b[31mERROR: tensorflow 2.3.0 has requirement numpy<1.19.0,>=1.16.0, but you'll have numpy 1.19.3 which is incompatible.\u001b[0m\n",
            "\u001b[31mERROR: datascience 0.10.6 has requirement folium==0.2.1, but you'll have folium 0.8.3 which is incompatible.\u001b[0m\n",
            "\u001b[31mERROR: albumentations 0.1.12 has requirement imgaug<0.2.7,>=0.2.5, but you'll have imgaug 0.2.9 which is incompatible.\u001b[0m\n",
            "\u001b[31mERROR: tensorflow-gpu 2.3.1 has requirement h5py<2.11.0,>=2.10.0, but you'll have h5py 2.9.0 which is incompatible.\u001b[0m\n",
            "\u001b[31mERROR: tensorflow-gpu 2.3.1 has requirement numpy<1.19.0,>=1.16.0, but you'll have numpy 1.19.3 which is incompatible.\u001b[0m\n",
            "Installing collected packages: numpy, h5py, opencv-python, ffmpeg-python, scikit-image, colorama, tensorflow-gpu\n",
            "  Found existing installation: numpy 1.18.5\n",
            "    Uninstalling numpy-1.18.5:\n",
            "      Successfully uninstalled numpy-1.18.5\n",
            "  Found existing installation: h5py 2.10.0\n",
            "    Uninstalling h5py-2.10.0:\n",
            "      Successfully uninstalled h5py-2.10.0\n",
            "  Found existing installation: opencv-python 4.1.2.30\n",
            "    Uninstalling opencv-python-4.1.2.30:\n",
            "      Successfully uninstalled opencv-python-4.1.2.30\n",
            "  Found existing installation: scikit-image 0.16.2\n",
            "    Uninstalling scikit-image-0.16.2:\n",
            "      Successfully uninstalled scikit-image-0.16.2\n",
            "Successfully installed colorama-0.4.4 ffmpeg-python-0.1.17 h5py-2.9.0 numpy-1.19.3 opencv-python-4.1.0.25 scikit-image-0.14.2 tensorflow-gpu-2.3.1\n"
          ],
          "name": "stdout"
        },
        {
          "output_type": "display_data",
          "data": {
            "application/vnd.colab-display-data+json": {
              "pip_warning": {
                "packages": [
                  "numpy"
                ]
              }
            }
          },
          "metadata": {
            "tags": []
          }
        },
        {
          "output_type": "stream",
          "text": [
            "Collecting scikit-image\n",
            "\u001b[?25l  Downloading https://files.pythonhosted.org/packages/0e/ba/53e1bfbdfd0f94514d71502e3acea494a8b4b57c457adbc333ef386485da/scikit_image-0.17.2-cp36-cp36m-manylinux1_x86_64.whl (12.4MB)\n",
            "\u001b[K     |████████████████████████████████| 12.4MB 138kB/s \n",
            "\u001b[?25hRequirement already satisfied, skipping upgrade: PyWavelets>=1.1.1 in /usr/local/lib/python3.6/dist-packages (from scikit-image) (1.1.1)\n",
            "Requirement already satisfied, skipping upgrade: pillow!=7.1.0,!=7.1.1,>=4.3.0 in /usr/local/lib/python3.6/dist-packages (from scikit-image) (7.0.0)\n",
            "Requirement already satisfied, skipping upgrade: scipy>=1.0.1 in /usr/local/lib/python3.6/dist-packages (from scikit-image) (1.4.1)\n",
            "Requirement already satisfied, skipping upgrade: numpy>=1.15.1 in /usr/local/lib/python3.6/dist-packages (from scikit-image) (1.19.3)\n",
            "Requirement already satisfied, skipping upgrade: networkx>=2.0 in /usr/local/lib/python3.6/dist-packages (from scikit-image) (2.5)\n",
            "Requirement already satisfied, skipping upgrade: matplotlib!=3.0.0,>=2.0.0 in /usr/local/lib/python3.6/dist-packages (from scikit-image) (3.2.2)\n",
            "Requirement already satisfied, skipping upgrade: tifffile>=2019.7.26 in /usr/local/lib/python3.6/dist-packages (from scikit-image) (2020.9.3)\n",
            "Requirement already satisfied, skipping upgrade: imageio>=2.3.0 in /usr/local/lib/python3.6/dist-packages (from scikit-image) (2.4.1)\n",
            "Requirement already satisfied, skipping upgrade: decorator>=4.3.0 in /usr/local/lib/python3.6/dist-packages (from networkx>=2.0->scikit-image) (4.4.2)\n",
            "Requirement already satisfied, skipping upgrade: pyparsing!=2.0.4,!=2.1.2,!=2.1.6,>=2.0.1 in /usr/local/lib/python3.6/dist-packages (from matplotlib!=3.0.0,>=2.0.0->scikit-image) (2.4.7)\n",
            "Requirement already satisfied, skipping upgrade: cycler>=0.10 in /usr/local/lib/python3.6/dist-packages (from matplotlib!=3.0.0,>=2.0.0->scikit-image) (0.10.0)\n",
            "Requirement already satisfied, skipping upgrade: kiwisolver>=1.0.1 in /usr/local/lib/python3.6/dist-packages (from matplotlib!=3.0.0,>=2.0.0->scikit-image) (1.3.1)\n",
            "Requirement already satisfied, skipping upgrade: python-dateutil>=2.1 in /usr/local/lib/python3.6/dist-packages (from matplotlib!=3.0.0,>=2.0.0->scikit-image) (2.8.1)\n",
            "Requirement already satisfied, skipping upgrade: six in /usr/local/lib/python3.6/dist-packages (from cycler>=0.10->matplotlib!=3.0.0,>=2.0.0->scikit-image) (1.15.0)\n",
            "\u001b[31mERROR: albumentations 0.1.12 has requirement imgaug<0.2.7,>=0.2.5, but you'll have imgaug 0.2.9 which is incompatible.\u001b[0m\n",
            "Installing collected packages: scikit-image\n",
            "  Found existing installation: scikit-image 0.14.2\n",
            "    Uninstalling scikit-image-0.14.2:\n",
            "      Successfully uninstalled scikit-image-0.14.2\n",
            "Successfully installed scikit-image-0.17.2\n"
          ],
          "name": "stdout"
        }
      ]
    },
    {
      "cell_type": "code",
      "metadata": {
        "colab": {
          "base_uri": "https://localhost:8080/"
        },
        "id": "vfggUkC7M3Tf",
        "outputId": "81ac76a7-e4ad-43fd-ce4d-ddc89a06f870"
      },
      "source": [
        "# 开始训练SAE ，如果是其他模型，修改后面的参数即可。\n",
        " \n",
        "!python main.py train --training-data-src-dir ../workspace/data_src/aligned --training-data-dst-dir ../workspace/data_dst/aligned --model-dir ../workspace/model --model SAE --no-preview\n",
        " \n"
      ],
      "execution_count": null,
      "outputs": [
        {
          "output_type": "stream",
          "text": [
            "usage: main.py train [-h] --training-data-src-dir TRAINING_DATA_SRC_DIR\n",
            "                     --training-data-dst-dir TRAINING_DATA_DST_DIR\n",
            "                     [--pretraining-data-dir PRETRAINING_DATA_DIR]\n",
            "                     [--pretrained-model-dir PRETRAINED_MODEL_DIR] --model-dir\n",
            "                     MODEL_DIR --model {Quick96,SAEHD,XSeg} [--debug]\n",
            "                     [--no-preview] [--force-model-name FORCE_MODEL_NAME]\n",
            "                     [--cpu-only] [--force-gpu-idxs FORCE_GPU_IDXS]\n",
            "                     [--silent-start]\n",
            "                     [--execute-program EXECUTE_PROGRAM [EXECUTE_PROGRAM ...]]\n",
            "main.py train: error: argument --model: invalid choice: 'SAE' (choose from 'Quick96', 'SAEHD', 'XSeg')\n"
          ],
          "name": "stdout"
        }
      ]
    },
    {
      "cell_type": "code",
      "metadata": {
        "id": "IEXeVcHbLi05",
        "colab": {
          "base_uri": "https://localhost:8080/"
        },
        "outputId": "8105eff5-cf0f-4597-8ffe-899fda82a052"
      },
      "source": [
        "# 1.用src中的脸替换dst的脸 \n",
        "!python main.py merge --input-dir ../workspace/data_dst --output-dir ../workspace/data_dst/merged --aligned-dir ../workspace/data_dst/aligned --output-mask-dir ../workspace/data_dst/mask --model-dir ../workspace/model --model Quick96\n"
      ],
      "execution_count": null,
      "outputs": [
        {
          "output_type": "stream",
          "text": [
            "Running merger.\r\n",
            "\n",
            "Choose one of saved models, or enter a name to create a new model.\n",
            "[r] : rename\n",
            "[d] : delete\n",
            "\n",
            "[0] : mytest - latest\n",
            " : \n",
            "0\n",
            "Loading mytest_Quick96 model...\n",
            "Initializing models: 100% 4/4 [00:05<00:00,  1.40s/it]\n",
            "============ Model Summary ============\n",
            "==                                   ==\n",
            "==        Model name: mytest_Quick96 ==\n",
            "==                                   ==\n",
            "== Current iteration: 18052          ==\n",
            "==                                   ==\n",
            "==---------- Model Options ----------==\n",
            "==                                   ==\n",
            "==        batch_size: 4              ==\n",
            "==                                   ==\n",
            "==----------- Running On ------------==\n",
            "==                                   ==\n",
            "==      Using device: CPU            ==\n",
            "==                                   ==\n",
            "=======================================\n",
            "Choose mode: \n",
            "(0) original\n",
            "(1) overlay\n",
            "(2) hist-match\n",
            "(3) seamless\n",
            "(4) seamless-hist-match\n",
            "(5) raw-rgb\n",
            "(6) raw-predict\n",
            "\n",
            "[1] : 1\n",
            "1\n",
            "Choose mask mode: \n",
            "(1) dst\n",
            "(2) learned-prd\n",
            "(3) learned-dst\n",
            "(4) learned-prd*learned-dst\n",
            "(5) learned-prd+learned-dst\n",
            "(6) XSeg-prd\n",
            "(7) XSeg-dst\n",
            "(8) XSeg-prd*XSeg-dst\n",
            "(9) learned-prd*learned-dst*XSeg-prd*XSeg-dst\n",
            "\n",
            "[1] : 3\n",
            "3\n",
            "[0] Choose erode mask modifier ( -400..400 ) : 30\n",
            "30\n",
            "[0] Choose blur mask modifier ( 0..400 ) : 60\n",
            "60\n",
            "[0] Choose motion blur power ( 0..100 ) : \n",
            "0\n",
            "[0] Choose output face scale modifier ( -50..50 ) : \n",
            "0\n",
            "Color transfer to predicted face ( rct/lct/mkl/mkl-m/idt/idt-m/sot-m/mix-m ) : lct\n",
            "lct\n",
            "Choose sharpen mode: \n",
            "(0) None\n",
            "(1) box\n",
            "(2) gaussian\n",
            "\n",
            "[0] ( ?:help ) : \n",
            "0\n",
            "[0] Choose super resolution power ( 0..100 ?:help ) : \n",
            "0\n",
            "[0] Choose image degrade by denoise power ( 0..500 ) : \n",
            "0\n",
            "[0] Choose image degrade by bicubic rescale power ( 0..100 ) : \n",
            "0\n",
            "[0] Degrade color power of final image ( 0..100 ) : 50\n",
            "50\n",
            "\n",
            "[8] Number of workers? ( 1-2 ?:help ) : \n",
            "8\n",
            "Collecting alignments: 100% 281/281 [01:48<00:00,  2.59it/s]\n",
            "Computing motion vectors: 100% 281/281 [00:00<00:00, 909.29it/s]\n",
            "Running on CPU3.\n",
            "Running on CPU4.\n",
            "Running on CPU1.\n",
            "Running on CPU2.\n",
            "Running on CPU0.\n",
            "Running on CPU6.\n",
            "Running on CPU5.\n",
            "Running on CPU7.\n",
            "Merging:   1% 3/281 [00:04<06:52,  1.48s/it]/content/drive/My Drive/DeepFaceLab/DeepFaceLab/merger/MergeMasked.py:238: RuntimeWarning: invalid value encountered in multiply\n",
            "  out_img = img_bgr*(1-img_face_mask_a) + (out_img*img_face_mask_a)\n",
            "Merging:   4% 10/281 [00:05<02:19,  1.94it/s]/content/drive/My Drive/DeepFaceLab/DeepFaceLab/merger/MergeMasked.py:238: RuntimeWarning: invalid value encountered in multiply\n",
            "  out_img = img_bgr*(1-img_face_mask_a) + (out_img*img_face_mask_a)\n",
            "Merging:   4% 11/281 [00:06<02:28,  1.82it/s]/content/drive/My Drive/DeepFaceLab/DeepFaceLab/merger/MergeMasked.py:238: RuntimeWarning: invalid value encountered in multiply\n",
            "  out_img = img_bgr*(1-img_face_mask_a) + (out_img*img_face_mask_a)\n",
            "Merging:  11% 31/281 [00:16<02:15,  1.85it/s]/content/drive/My Drive/DeepFaceLab/DeepFaceLab/merger/MergeMasked.py:238: RuntimeWarning: invalid value encountered in multiply\n",
            "  out_img = img_bgr*(1-img_face_mask_a) + (out_img*img_face_mask_a)\n",
            "Merging: 100% 281/281 [02:14<00:00,  2.09it/s]\n",
            "Done.\n"
          ],
          "name": "stdout"
        }
      ]
    },
    {
      "cell_type": "code",
      "metadata": {
        "id": "babAZJUiQKtp",
        "colab": {
          "base_uri": "https://localhost:8080/"
        },
        "outputId": "42a18016-0346-4246-aa2f-4fe5167ca27b"
      },
      "source": [
        "# 2.把替换好的图片转换成视频\n",
        " \n",
        "!python main.py videoed video-from-sequence --input-dir ../workspace/data_dst/merged --output-file ../workspace/result.mp4 --reference-file ../workspace/data_dst.mp4\n"
      ],
      "execution_count": null,
      "outputs": [
        {
          "output_type": "stream",
          "text": [
            "[16] Bitrate of output file in MB/s : \n",
            "16\n",
            "ffmpeg version 3.4.8-0ubuntu0.2 Copyright (c) 2000-2020 the FFmpeg developers\n",
            "  built with gcc 7 (Ubuntu 7.5.0-3ubuntu1~18.04)\n",
            "  configuration: --prefix=/usr --extra-version=0ubuntu0.2 --toolchain=hardened --libdir=/usr/lib/x86_64-linux-gnu --incdir=/usr/include/x86_64-linux-gnu --enable-gpl --disable-stripping --enable-avresample --enable-avisynth --enable-gnutls --enable-ladspa --enable-libass --enable-libbluray --enable-libbs2b --enable-libcaca --enable-libcdio --enable-libflite --enable-libfontconfig --enable-libfreetype --enable-libfribidi --enable-libgme --enable-libgsm --enable-libmp3lame --enable-libmysofa --enable-libopenjpeg --enable-libopenmpt --enable-libopus --enable-libpulse --enable-librubberband --enable-librsvg --enable-libshine --enable-libsnappy --enable-libsoxr --enable-libspeex --enable-libssh --enable-libtheora --enable-libtwolame --enable-libvorbis --enable-libvpx --enable-libwavpack --enable-libwebp --enable-libx265 --enable-libxml2 --enable-libxvid --enable-libzmq --enable-libzvbi --enable-omx --enable-openal --enable-opengl --enable-sdl2 --enable-libdc1394 --enable-libdrm --enable-libiec61883 --enable-chromaprint --enable-frei0r --enable-libopencv --enable-libx264 --enable-shared\n",
            "  libavutil      55. 78.100 / 55. 78.100\n",
            "  libavcodec     57.107.100 / 57.107.100\n",
            "  libavformat    57. 83.100 / 57. 83.100\n",
            "  libavdevice    57. 10.100 / 57. 10.100\n",
            "  libavfilter     6.107.100 /  6.107.100\n",
            "  libavresample   3.  7.  0 /  3.  7.  0\n",
            "  libswscale      4.  8.100 /  4.  8.100\n",
            "  libswresample   2.  9.100 /  2.  9.100\n",
            "  libpostproc    54.  7.100 / 54.  7.100\n",
            "Input #0, image2pipe, from 'pipe:':\n",
            "  Duration: N/A, bitrate: N/A\n",
            "    Stream #0:0: Video: png, rgb24(pc), 576x1024, 30 fps, 30 tbr, 30 tbn, 30 tbc\n",
            "Stream mapping:\n",
            "  Stream #0:0 -> #0:0 (png (native) -> h264 (libx264))\n",
            "\u001b[1;36m[libx264 @ 0x559f1b41fe00] \u001b[0musing cpu capabilities: MMX2 SSE2Fast SSSE3 SSE4.2 AVX FMA3 BMI2 AVX2\n",
            "\u001b[1;36m[libx264 @ 0x559f1b41fe00] \u001b[0mprofile High, level 4.1\n",
            "\u001b[1;36m[libx264 @ 0x559f1b41fe00] \u001b[0m264 - core 152 r2854 e9a5903 - H.264/MPEG-4 AVC codec - Copyleft 2003-2017 - http://www.videolan.org/x264.html - options: cabac=1 ref=3 deblock=1:0:0 analyse=0x3:0x113 me=hex subme=7 psy=1 psy_rd=1.00:0.00 mixed_ref=1 me_range=16 chroma_me=1 trellis=1 8x8dct=1 cqm=0 deadzone=21,11 fast_pskip=1 chroma_qp_offset=-2 threads=3 lookahead_threads=1 sliced_threads=0 nr=0 decimate=1 interlaced=0 bluray_compat=0 constrained_intra=0 bframes=3 b_pyramid=2 b_adapt=1 b_bias=0 direct=1 weightb=1 open_gop=0 weightp=2 keyint=250 keyint_min=25 scenecut=40 intra_refresh=0 rc_lookahead=40 rc=abr mbtree=1 bitrate=16000 ratetol=1.0 qcomp=0.60 qpmin=0 qpmax=69 qpstep=4 ip_ratio=1.40 aq=1:1.00\n",
            "Output #0, mp4, to '/content/drive/My Drive/DeepFaceLab/workspace/result.mp4':\n",
            "  Metadata:\n",
            "    encoder         : Lavf57.83.100\n",
            "    Stream #0:0: Video: h264 (libx264) (avc1 / 0x31637661), yuv420p, 576x1024, q=-1--1, 16000 kb/s, 30 fps, 15360 tbn, 30 tbc\n",
            "    Metadata:\n",
            "      encoder         : Lavc57.107.100 libx264\n",
            "    Side data:\n",
            "      cpb: bitrate max/min/avg: 0/0/16000000 buffer size: 0 vbv_delay: -1\n",
            "frame=  281 fps= 12 q=-1.0 Lsize=   17768kB time=00:00:09.26 bitrate=15707.2kbits/s speed=0.396x    \n",
            "video:17764kB audio:0kB subtitle:0kB other streams:0kB global headers:0kB muxing overhead: 0.024338%\n",
            "\u001b[1;36m[libx264 @ 0x559f1b41fe00] \u001b[0mframe I:2     Avg QP: 1.37  size:129932\n",
            "\u001b[1;36m[libx264 @ 0x559f1b41fe00] \u001b[0mframe P:71    Avg QP: 2.77  size: 97708\n",
            "\u001b[1;36m[libx264 @ 0x559f1b41fe00] \u001b[0mframe B:208   Avg QP: 4.83  size: 52846\n",
            "\u001b[1;36m[libx264 @ 0x559f1b41fe00] \u001b[0mconsecutive B-frames:  1.1%  0.7%  0.0% 98.2%\n",
            "\u001b[1;36m[libx264 @ 0x559f1b41fe00] \u001b[0mmb I  I16..4: 34.3% 20.8% 44.9%\n",
            "\u001b[1;36m[libx264 @ 0x559f1b41fe00] \u001b[0mmb P  I16..4: 14.9% 13.1% 21.4%  P16..4: 21.1% 10.8%  9.5%  0.0%  0.0%    skip: 9.2%\n",
            "\u001b[1;36m[libx264 @ 0x559f1b41fe00] \u001b[0mmb B  I16..4:  3.0%  3.0%  6.1%  B16..8: 33.1% 14.8%  7.2%  direct:13.2%  skip:19.5%  L0:42.9% L1:42.9% BI:14.2%\n",
            "\u001b[1;36m[libx264 @ 0x559f1b41fe00] \u001b[0mfinal ratefactor: 3.49\n",
            "\u001b[1;36m[libx264 @ 0x559f1b41fe00] \u001b[0m8x8 transform intra:25.7% inter:22.0%\n",
            "\u001b[1;36m[libx264 @ 0x559f1b41fe00] \u001b[0mcoded y,uvDC,uvAC intra: 83.8% 84.3% 83.5% inter: 47.4% 51.5% 48.5%\n",
            "\u001b[1;36m[libx264 @ 0x559f1b41fe00] \u001b[0mi16 v,h,dc,p: 39% 28% 22% 11%\n",
            "\u001b[1;36m[libx264 @ 0x559f1b41fe00] \u001b[0mi8 v,h,dc,ddl,ddr,vr,hd,vl,hu: 22% 23% 20%  5%  5%  5%  6%  7%  6%\n",
            "\u001b[1;36m[libx264 @ 0x559f1b41fe00] \u001b[0mi4 v,h,dc,ddl,ddr,vr,hd,vl,hu: 25% 22% 16%  6%  7%  6%  7%  6%  5%\n",
            "\u001b[1;36m[libx264 @ 0x559f1b41fe00] \u001b[0mi8c dc,h,v,p: 48% 21% 21% 10%\n",
            "\u001b[1;36m[libx264 @ 0x559f1b41fe00] \u001b[0mWeighted P-Frames: Y:0.0% UV:0.0%\n",
            "\u001b[1;36m[libx264 @ 0x559f1b41fe00] \u001b[0mref P L0: 59.9%  6.7% 20.7% 12.7%\n",
            "\u001b[1;36m[libx264 @ 0x559f1b41fe00] \u001b[0mref B L0: 85.7% 10.8%  3.5%\n",
            "\u001b[1;36m[libx264 @ 0x559f1b41fe00] \u001b[0mref B L1: 92.5%  7.5%\n",
            "\u001b[1;36m[libx264 @ 0x559f1b41fe00] \u001b[0mkb/s:15535.22\n",
            "Done.\n"
          ],
          "name": "stdout"
        }
      ]
    }
  ]
}